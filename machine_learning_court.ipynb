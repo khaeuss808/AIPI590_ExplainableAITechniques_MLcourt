{
  "cells": [
    {
      "cell_type": "markdown",
      "id": "dfa6cc37",
      "metadata": {
        "id": "dfa6cc37"
      },
      "source": [
        "[![Open In Collab](https://colab.research.google.com/assets/colab-badge.svg)](https://colab.research.google.com/github/AIPI-590-XAI/Duke-AI-XAI/blob/main/assignments/machine_learning_court.ipynb)\n",
        "\n",
        "# 👩‍⚖️ ⚖️ Machine Learning Court\n",
        "\n"
      ]
    },
    {
      "cell_type": "markdown",
      "id": "MN2ts4xtQ6ts",
      "metadata": {
        "id": "MN2ts4xtQ6ts"
      },
      "source": [
        "## ⚖️ Case 1: Loan Denial Dispute – UCI Adult Income Dataset\n",
        "#### 🔍 Scenario\n",
        "\n",
        "Jane Dow, a 37-year-old professional woman with a Bachelor's degree and full-time executive role, applied for a premium credit product. The bank’s model—trained to predict income level as a proxy for eligibility—classified her as earning ≤$50K, resulting in denial. She disputes the fairness of the decision.\n",
        "\n",
        "#### 🟥 Prosecution\n",
        "Evaluate whether the model’s decision may have been influenced by inappropriate or unfair reasoning. Explore whether the explanation aligns with what should be expected in a fair credit decision.\n",
        "\n",
        "#### 🟦 Defense\n",
        "Justify the decision based on the model’s learned patterns. Consider how well the explanation supports the classification and whether similar profiles are treated consistently."
      ]
    },
    {
      "cell_type": "code",
      "execution_count": 14,
      "id": "d3fbadd3",
      "metadata": {
        "colab": {
          "base_uri": "https://localhost:8080/"
        },
        "id": "d3fbadd3",
        "outputId": "cd400772-86b4-4efd-ecc1-1315911e92b7"
      },
      "outputs": [
        {
          "name": "stdout",
          "output_type": "stream",
          "text": [
            "              precision    recall  f1-score   support\n",
            "\n",
            "           0       1.00      1.00      1.00      9045\n",
            "\n",
            "    accuracy                           1.00      9045\n",
            "   macro avg       1.00      1.00      1.00      9045\n",
            "weighted avg       1.00      1.00      1.00      9045\n",
            "\n"
          ]
        }
      ],
      "source": [
        "# 📦 Case 1: Loan Approval Prediction (Adult Income Dataset)\n",
        "\n",
        "import pandas as pd\n",
        "from sklearn.model_selection import train_test_split\n",
        "from sklearn.preprocessing import LabelEncoder\n",
        "from sklearn.ensemble import RandomForestClassifier\n",
        "from sklearn.metrics import classification_report\n",
        "\n",
        "# Load Data\n",
        "from sklearn.datasets import fetch_openml\n",
        "\n",
        "adult = fetch_openml(name=\"adult\", version=2, as_frame=True)\n",
        "df = adult.frame\n",
        "\n",
        "# Clean and preprocess\n",
        "df = df.dropna()\n",
        "df = df.copy()\n",
        "encoders = {}\n",
        "label_cols = df.select_dtypes(include=\"category\").columns.tolist()\n",
        "\n",
        "for col in label_cols:\n",
        "    le = LabelEncoder()\n",
        "    df[col] = df[col].astype(str)\n",
        "    df[col] = le.fit_transform(df[col])\n",
        "    encoders[col] = le\n",
        "\n",
        "X = df.drop([\"class\", \"fnlwgt\"], axis=1)\n",
        "y = df[\"class\"].apply(lambda x: 1 if x == \">50K\" else 0)\n",
        "\n",
        "X_train, X_test, y_train, y_test = train_test_split(\n",
        "    X, y, test_size=0.2, random_state=42\n",
        ")\n",
        "\n",
        "# Train simple RF model\n",
        "model_adult = RandomForestClassifier(random_state=42)\n",
        "model_adult.fit(X_train, y_train)\n",
        "print(classification_report(y_test, model_adult.predict(X_test)))"
      ]
    },
    {
      "cell_type": "code",
      "execution_count": 15,
      "id": "9a5c7c2c",
      "metadata": {
        "colab": {
          "base_uri": "https://localhost:8080/"
        },
        "id": "9a5c7c2c",
        "outputId": "1159b2cc-636a-41a7-ef2f-16e5f8631cc8"
      },
      "outputs": [
        {
          "name": "stdout",
          "output_type": "stream",
          "text": [
            "Prediction for Jane Dow (Loan Eligibility): Denied\n"
          ]
        }
      ],
      "source": [
        "# 🎯 Focus Instance: Loan Rejection Case (Jane Dow)\n",
        "\n",
        "jane_encoded = {\n",
        "    \"age\": 37,\n",
        "    \"workclass\": encoders[\"workclass\"].transform([\"Private\"])[0],\n",
        "    \"education\": encoders[\"education\"].transform([\"Bachelors\"])[0],\n",
        "    \"marital-status\": encoders[\"marital-status\"].transform([\"Never-married\"])[0],\n",
        "    \"occupation\": encoders[\"occupation\"].transform([\"Exec-managerial\"])[0],\n",
        "    \"relationship\": encoders[\"relationship\"].transform([\"Not-in-family\"])[0],\n",
        "    \"race\": encoders[\"race\"].transform([\"White\"])[0],\n",
        "    \"sex\": encoders[\"sex\"].transform([\"Female\"])[0],\n",
        "    \"hours-per-week\": 50,\n",
        "    \"native-country\": encoders[\"native-country\"].transform([\"United-States\"])[0],\n",
        "    \"capital-gain\": 0,\n",
        "    \"capital-loss\": 0,\n",
        "    \"education-num\": 13,\n",
        "}\n",
        "\n",
        "jane_df = pd.DataFrame([jane_encoded])\n",
        "jane_df = jane_df[X_train.columns]\n",
        "pred = model_adult.predict(jane_df)\n",
        "print(\n",
        "    \"Prediction for Jane Dow (Loan Eligibility):\",\n",
        "    \"Approved\" if pred[0] == 1 else \"Denied\",\n",
        ")"
      ]
    },
    {
      "cell_type": "markdown",
      "id": "82c6e37a",
      "metadata": {},
      "source": [
        "### Defense\n",
        "I was assigned the role of defense for this case. I think for defense we need to explore local explanations, as opposed to global, as we discussed in class as we are interested in why this specific instance (Jane) received the label that it did (denied)\n",
        "\n",
        "Dr. Bent has a notebook on her GitHub that I use as a guide for implementing these techniques  \n",
        "(https://github.com/AIPI-590-XAI/Duke-AI-XAI/blob/main/explainable-ml-example-notebooks/local_explanations.ipynb)"
      ]
    },
    {
      "cell_type": "code",
      "execution_count": 16,
      "id": "ff53e27a",
      "metadata": {},
      "outputs": [],
      "source": [
        "import lime\n",
        "from lime.lime_tabular import LimeTabularExplainer"
      ]
    },
    {
      "cell_type": "markdown",
      "id": "167a77fb",
      "metadata": {},
      "source": [
        "# LIME 🍋‍🟩\n",
        "LIME Process: (From Dr. Bent's Notes)\n",
        "\n",
        "* Select instance of interest\n",
        "* Perturb your dataset and get black box predictions for perturbed samples\n",
        "* Generate a new dataset consisting of perturbed samples (variations of your data) and the corresponding predictions\n",
        "* Train an interpretable model, weighted by the proximity of sampled instances to the instance of interest\n",
        "* Interpret the local model to explain prediction"
      ]
    },
    {
      "cell_type": "code",
      "execution_count": 17,
      "id": "06d7bca2",
      "metadata": {},
      "outputs": [
        {
          "name": "stdout",
          "output_type": "stream",
          "text": [
            "Feature Names:['age', 'workclass', 'education', 'education-num', 'marital-status', 'occupation', 'relationship', 'race', 'sex', 'capital-gain', 'capital-loss', 'hours-per-week', 'native-country']\n",
            "Number of Features: 13\n"
          ]
        }
      ],
      "source": [
        "feature_names = list(X_train.columns)\n",
        "print(f\"Feature Names:{feature_names}\")\n",
        "print(f\"Number of Features: {len(feature_names)}\")\n",
        "\n",
        "class_names = [0, 1]  # 0 for denied, 1 for approved"
      ]
    },
    {
      "cell_type": "code",
      "execution_count": 18,
      "id": "e5a941c9",
      "metadata": {},
      "outputs": [
        {
          "name": "stdout",
          "output_type": "stream",
          "text": [
            "Categorical feature indices: [1, 2, 4, 5, 6, 7, 8, 12]\n",
            "Categorical feature names: ['workclass', 'education', 'marital-status', 'occupation', 'relationship', 'race', 'sex', 'native-country']\n",
            "\n",
            "Categorical names mapping:\n",
            "  Feature 1 (workclass): ['Federal-gov', 'Local-gov', 'Private', 'Self-emp-inc', 'Self-emp-not-inc', 'State-gov', 'Without-pay']\n",
            "  Feature 2 (education): ['10th', '11th', '12th', '1st-4th', '5th-6th', '7th-8th', '9th', 'Assoc-acdm', 'Assoc-voc', 'Bachelors', 'Doctorate', 'HS-grad', 'Masters', 'Preschool', 'Prof-school', 'Some-college']\n",
            "  Feature 4 (marital-status): ['Divorced', 'Married-AF-spouse', 'Married-civ-spouse', 'Married-spouse-absent', 'Never-married', 'Separated', 'Widowed']\n",
            "  Feature 5 (occupation): ['Adm-clerical', 'Armed-Forces', 'Craft-repair', 'Exec-managerial', 'Farming-fishing', 'Handlers-cleaners', 'Machine-op-inspct', 'Other-service', 'Priv-house-serv', 'Prof-specialty', 'Protective-serv', 'Sales', 'Tech-support', 'Transport-moving']\n",
            "  Feature 6 (relationship): ['Husband', 'Not-in-family', 'Other-relative', 'Own-child', 'Unmarried', 'Wife']\n",
            "  Feature 7 (race): ['Amer-Indian-Eskimo', 'Asian-Pac-Islander', 'Black', 'Other', 'White']\n",
            "  Feature 8 (sex): ['Female', 'Male']\n",
            "  Feature 12 (native-country): ['Cambodia', 'Canada', 'China', 'Columbia', 'Cuba', 'Dominican-Republic', 'Ecuador', 'El-Salvador', 'England', 'France', 'Germany', 'Greece', 'Guatemala', 'Haiti', 'Holand-Netherlands', 'Honduras', 'Hong', 'Hungary', 'India', 'Iran', 'Ireland', 'Italy', 'Jamaica', 'Japan', 'Laos', 'Mexico', 'Nicaragua', 'Outlying-US(Guam-USVI-etc)', 'Peru', 'Philippines', 'Poland', 'Portugal', 'Puerto-Rico', 'Scotland', 'South', 'Taiwan', 'Thailand', 'Trinadad&Tobago', 'United-States', 'Vietnam', 'Yugoslavia']\n"
          ]
        }
      ],
      "source": [
        "# Define categorical features (indices in the feature list)\n",
        "categorical_feature_indices = []\n",
        "categorical_feature_names = []\n",
        "\n",
        "for i, col in enumerate(feature_names):\n",
        "    if col in [\n",
        "        \"workclass\",\n",
        "        \"education\",\n",
        "        \"marital-status\",\n",
        "        \"occupation\",\n",
        "        \"relationship\",\n",
        "        \"race\",\n",
        "        \"sex\",\n",
        "        \"native-country\",\n",
        "    ]:\n",
        "        categorical_feature_indices.append(i)\n",
        "        categorical_feature_names.append(col)\n",
        "\n",
        "print(f\"Categorical feature indices: {categorical_feature_indices}\")\n",
        "print(f\"Categorical feature names: {categorical_feature_names}\")\n",
        "\n",
        "# Class names\n",
        "class_names = [\"<=50K\", \">50K\"]\n",
        "\n",
        "# Create categorical names mapping (index -> list of category names)\n",
        "categorical_names = {}\n",
        "\n",
        "\n",
        "# Helper function to get original category names from encoders\n",
        "def get_categories_from_encoder(encoder):\n",
        "    \"\"\"Get the original category names from a LabelEncoder\"\"\"\n",
        "    return list(encoder.classes_)\n",
        "\n",
        "\n",
        "# Map each categorical feature index to its categories\n",
        "for i, col_name in enumerate(feature_names):\n",
        "    if col_name in encoders:\n",
        "        categorical_names[i] = get_categories_from_encoder(encoders[col_name])\n",
        "\n",
        "print(f\"\\nCategorical names mapping:\")\n",
        "for idx, names in categorical_names.items():\n",
        "    print(f\"  Feature {idx} ({feature_names[idx]}): {names}\")"
      ]
    },
    {
      "cell_type": "code",
      "execution_count": 19,
      "id": "fb2c643b",
      "metadata": {},
      "outputs": [],
      "source": [
        "# Define kernel_width\n",
        "kernel_width = 3\n",
        "\n",
        "# Initialize LIME explainer\n",
        "explainer = lime.lime_tabular.LimeTabularExplainer(\n",
        "    X_train.values,\n",
        "    class_names=class_names,\n",
        "    feature_names=feature_names,\n",
        "    categorical_features=categorical_feature_indices,\n",
        "    categorical_names=categorical_names,\n",
        "    kernel_width=kernel_width,\n",
        ")"
      ]
    },
    {
      "cell_type": "code",
      "execution_count": 20,
      "id": "0813c338",
      "metadata": {},
      "outputs": [
        {
          "name": "stderr",
          "output_type": "stream",
          "text": [
            "/Users/kaylahaeusssler/miniforge3/lib/python3.12/site-packages/sklearn/base.py:493: UserWarning: X does not have valid feature names, but RandomForestClassifier was fitted with feature names\n",
            "  warnings.warn(\n"
          ]
        },
        {
          "ename": "IndexError",
          "evalue": "index 1 is out of bounds for axis 1 with size 1",
          "output_type": "error",
          "traceback": [
            "\u001b[0;31m---------------------------------------------------------------------------\u001b[0m",
            "\u001b[0;31mIndexError\u001b[0m                                Traceback (most recent call last)",
            "Cell \u001b[0;32mIn[20], line 4\u001b[0m\n\u001b[1;32m      1\u001b[0m \u001b[38;5;66;03m# looking at Jane Dow's case\u001b[39;00m\n\u001b[1;32m      2\u001b[0m \n\u001b[1;32m      3\u001b[0m \u001b[38;5;66;03m# uses the explainer on Jane's case\u001b[39;00m\n\u001b[0;32m----> 4\u001b[0m jane_exp \u001b[38;5;241m=\u001b[39m \u001b[43mexplainer\u001b[49m\u001b[38;5;241;43m.\u001b[39;49m\u001b[43mexplain_instance\u001b[49m\u001b[43m(\u001b[49m\n\u001b[1;32m      5\u001b[0m \u001b[43m    \u001b[49m\u001b[43mjane_df\u001b[49m\u001b[38;5;241;43m.\u001b[39;49m\u001b[43mvalues\u001b[49m\u001b[43m[\u001b[49m\u001b[38;5;241;43m0\u001b[39;49m\u001b[43m]\u001b[49m\u001b[43m,\u001b[49m\u001b[43m \u001b[49m\u001b[43mmodel_adult\u001b[49m\u001b[38;5;241;43m.\u001b[39;49m\u001b[43mpredict_proba\u001b[49m\u001b[43m,\u001b[49m\u001b[43m \u001b[49m\u001b[43mnum_features\u001b[49m\u001b[38;5;241;43m=\u001b[39;49m\u001b[38;5;28;43mlen\u001b[39;49m\u001b[43m(\u001b[49m\u001b[43mfeature_names\u001b[49m\u001b[43m)\u001b[49m\n\u001b[1;32m      6\u001b[0m \u001b[43m)\u001b[49m\n\u001b[1;32m      9\u001b[0m jane_exp\u001b[38;5;241m.\u001b[39mshow_in_notebook()\n",
            "File \u001b[0;32m~/miniforge3/lib/python3.12/site-packages/lime/lime_tabular.py:452\u001b[0m, in \u001b[0;36mLimeTabularExplainer.explain_instance\u001b[0;34m(self, data_row, predict_fn, labels, top_labels, num_features, num_samples, distance_metric, model_regressor)\u001b[0m\n\u001b[1;32m    448\u001b[0m     labels \u001b[38;5;241m=\u001b[39m [\u001b[38;5;241m0\u001b[39m]\n\u001b[1;32m    449\u001b[0m \u001b[38;5;28;01mfor\u001b[39;00m label \u001b[38;5;129;01min\u001b[39;00m labels:\n\u001b[1;32m    450\u001b[0m     (ret_exp\u001b[38;5;241m.\u001b[39mintercept[label],\n\u001b[1;32m    451\u001b[0m      ret_exp\u001b[38;5;241m.\u001b[39mlocal_exp[label],\n\u001b[0;32m--> 452\u001b[0m      ret_exp\u001b[38;5;241m.\u001b[39mscore, ret_exp\u001b[38;5;241m.\u001b[39mlocal_pred) \u001b[38;5;241m=\u001b[39m \u001b[38;5;28;43mself\u001b[39;49m\u001b[38;5;241;43m.\u001b[39;49m\u001b[43mbase\u001b[49m\u001b[38;5;241;43m.\u001b[39;49m\u001b[43mexplain_instance_with_data\u001b[49m\u001b[43m(\u001b[49m\n\u001b[1;32m    453\u001b[0m \u001b[43m            \u001b[49m\u001b[43mscaled_data\u001b[49m\u001b[43m,\u001b[49m\n\u001b[1;32m    454\u001b[0m \u001b[43m            \u001b[49m\u001b[43myss\u001b[49m\u001b[43m,\u001b[49m\n\u001b[1;32m    455\u001b[0m \u001b[43m            \u001b[49m\u001b[43mdistances\u001b[49m\u001b[43m,\u001b[49m\n\u001b[1;32m    456\u001b[0m \u001b[43m            \u001b[49m\u001b[43mlabel\u001b[49m\u001b[43m,\u001b[49m\n\u001b[1;32m    457\u001b[0m \u001b[43m            \u001b[49m\u001b[43mnum_features\u001b[49m\u001b[43m,\u001b[49m\n\u001b[1;32m    458\u001b[0m \u001b[43m            \u001b[49m\u001b[43mmodel_regressor\u001b[49m\u001b[38;5;241;43m=\u001b[39;49m\u001b[43mmodel_regressor\u001b[49m\u001b[43m,\u001b[49m\n\u001b[1;32m    459\u001b[0m \u001b[43m            \u001b[49m\u001b[43mfeature_selection\u001b[49m\u001b[38;5;241;43m=\u001b[39;49m\u001b[38;5;28;43mself\u001b[39;49m\u001b[38;5;241;43m.\u001b[39;49m\u001b[43mfeature_selection\u001b[49m\u001b[43m)\u001b[49m\n\u001b[1;32m    461\u001b[0m \u001b[38;5;28;01mif\u001b[39;00m \u001b[38;5;28mself\u001b[39m\u001b[38;5;241m.\u001b[39mmode \u001b[38;5;241m==\u001b[39m \u001b[38;5;124m\"\u001b[39m\u001b[38;5;124mregression\u001b[39m\u001b[38;5;124m\"\u001b[39m:\n\u001b[1;32m    462\u001b[0m     ret_exp\u001b[38;5;241m.\u001b[39mintercept[\u001b[38;5;241m1\u001b[39m] \u001b[38;5;241m=\u001b[39m ret_exp\u001b[38;5;241m.\u001b[39mintercept[\u001b[38;5;241m0\u001b[39m]\n",
            "File \u001b[0;32m~/miniforge3/lib/python3.12/site-packages/lime/lime_base.py:182\u001b[0m, in \u001b[0;36mLimeBase.explain_instance_with_data\u001b[0;34m(self, neighborhood_data, neighborhood_labels, distances, label, num_features, feature_selection, model_regressor)\u001b[0m\n\u001b[1;32m    145\u001b[0m \u001b[38;5;250m\u001b[39m\u001b[38;5;124;03m\"\"\"Takes perturbed data, labels and distances, returns explanation.\u001b[39;00m\n\u001b[1;32m    146\u001b[0m \n\u001b[1;32m    147\u001b[0m \u001b[38;5;124;03mArgs:\u001b[39;00m\n\u001b[0;32m   (...)\u001b[0m\n\u001b[1;32m    178\u001b[0m \u001b[38;5;124;03m    local_pred is the prediction of the explanation model on the original instance\u001b[39;00m\n\u001b[1;32m    179\u001b[0m \u001b[38;5;124;03m\"\"\"\u001b[39;00m\n\u001b[1;32m    181\u001b[0m weights \u001b[38;5;241m=\u001b[39m \u001b[38;5;28mself\u001b[39m\u001b[38;5;241m.\u001b[39mkernel_fn(distances)\n\u001b[0;32m--> 182\u001b[0m labels_column \u001b[38;5;241m=\u001b[39m \u001b[43mneighborhood_labels\u001b[49m\u001b[43m[\u001b[49m\u001b[43m:\u001b[49m\u001b[43m,\u001b[49m\u001b[43m \u001b[49m\u001b[43mlabel\u001b[49m\u001b[43m]\u001b[49m\n\u001b[1;32m    183\u001b[0m used_features \u001b[38;5;241m=\u001b[39m \u001b[38;5;28mself\u001b[39m\u001b[38;5;241m.\u001b[39mfeature_selection(neighborhood_data,\n\u001b[1;32m    184\u001b[0m                                        labels_column,\n\u001b[1;32m    185\u001b[0m                                        weights,\n\u001b[1;32m    186\u001b[0m                                        num_features,\n\u001b[1;32m    187\u001b[0m                                        feature_selection)\n\u001b[1;32m    188\u001b[0m \u001b[38;5;28;01mif\u001b[39;00m model_regressor \u001b[38;5;129;01mis\u001b[39;00m \u001b[38;5;28;01mNone\u001b[39;00m:\n",
            "\u001b[0;31mIndexError\u001b[0m: index 1 is out of bounds for axis 1 with size 1"
          ]
        }
      ],
      "source": [
        "# looking at Jane Dow's case\n",
        "\n",
        "# uses the explainer on Jane's case\n",
        "jane_exp = explainer.explain_instance(\n",
        "    jane_df.values[0], model_adult.predict_proba, num_features=len(feature_names)\n",
        ")\n",
        "\n",
        "jane_exp.show_in_notebook()"
      ]
    },
    {
      "cell_type": "code",
      "execution_count": 26,
      "id": "93aefb6a",
      "metadata": {},
      "outputs": [
        {
          "name": "stdout",
          "output_type": "stream",
          "text": [
            "\n",
            "LIME Explanation for Jane Dow:\n"
          ]
        },
        {
          "ename": "NameError",
          "evalue": "name 'jane_exp' is not defined",
          "output_type": "error",
          "traceback": [
            "\u001b[0;31m---------------------------------------------------------------------------\u001b[0m",
            "\u001b[0;31mNameError\u001b[0m                                 Traceback (most recent call last)",
            "Cell \u001b[0;32mIn[26], line 3\u001b[0m\n\u001b[1;32m      1\u001b[0m \u001b[38;5;28mprint\u001b[39m(\u001b[38;5;124mf\u001b[39m\u001b[38;5;124m\"\u001b[39m\u001b[38;5;130;01m\\n\u001b[39;00m\u001b[38;5;124mLIME Explanation for Jane Dow:\u001b[39m\u001b[38;5;124m\"\u001b[39m)\n\u001b[1;32m      2\u001b[0m \u001b[38;5;28mprint\u001b[39m(\n\u001b[0;32m----> 3\u001b[0m     \u001b[38;5;124mf\u001b[39m\u001b[38;5;124m\"\u001b[39m\u001b[38;5;124mPrediction: \u001b[39m\u001b[38;5;132;01m{\u001b[39;00m\u001b[38;5;124m'\u001b[39m\u001b[38;5;124mApproved (>50K)\u001b[39m\u001b[38;5;124m'\u001b[39m\u001b[38;5;250m \u001b[39m\u001b[38;5;28;01mif\u001b[39;00m\u001b[38;5;250m \u001b[39m\u001b[43mjane_exp\u001b[49m\u001b[38;5;241m.\u001b[39mpredict_proba[\u001b[38;5;241m1\u001b[39m]\u001b[38;5;250m \u001b[39m\u001b[38;5;241m>\u001b[39m\u001b[38;5;250m \u001b[39m\u001b[38;5;241m0.5\u001b[39m\u001b[38;5;250m \u001b[39m\u001b[38;5;28;01melse\u001b[39;00m\u001b[38;5;250m \u001b[39m\u001b[38;5;124m'\u001b[39m\u001b[38;5;124mDenied (<=50K)\u001b[39m\u001b[38;5;124m'\u001b[39m\u001b[38;5;132;01m}\u001b[39;00m\u001b[38;5;124m\"\u001b[39m\n\u001b[1;32m      4\u001b[0m )\n\u001b[1;32m      5\u001b[0m \u001b[38;5;28mprint\u001b[39m(\u001b[38;5;124mf\u001b[39m\u001b[38;5;124m\"\u001b[39m\u001b[38;5;124mPrediction probability: \u001b[39m\u001b[38;5;132;01m{\u001b[39;00mjane_exp\u001b[38;5;241m.\u001b[39mpredict_proba[\u001b[38;5;241m1\u001b[39m]\u001b[38;5;132;01m:\u001b[39;00m\u001b[38;5;124m.3f\u001b[39m\u001b[38;5;132;01m}\u001b[39;00m\u001b[38;5;124m for >50K\u001b[39m\u001b[38;5;124m\"\u001b[39m)\n\u001b[1;32m      7\u001b[0m \u001b[38;5;28mprint\u001b[39m(\u001b[38;5;124mf\u001b[39m\u001b[38;5;124m\"\u001b[39m\u001b[38;5;130;01m\\n\u001b[39;00m\u001b[38;5;124mFeature contributions (sorted by importance):\u001b[39m\u001b[38;5;124m\"\u001b[39m)\n",
            "\u001b[0;31mNameError\u001b[0m: name 'jane_exp' is not defined"
          ]
        }
      ],
      "source": [
        "print(f\"\\nLIME Explanation for Jane Dow:\")\n",
        "print(\n",
        "    f\"Prediction: {'Approved (>50K)' if jane_exp.predict_proba[1] > 0.5 else 'Denied (<=50K)'}\"\n",
        ")\n",
        "print(f\"Prediction probability: {jane_exp.predict_proba[1]:.3f} for >50K\")\n",
        "\n",
        "print(f\"\\nFeature contributions (sorted by importance):\")\n",
        "for feature, weight in jane_exp.as_list():\n",
        "    direction = \"SUPPORTS\" if weight > 0 else \"OPPOSES\"\n",
        "    print(f\"  {feature}: {weight:.4f} ({direction} >50K prediction)\")"
      ]
    },
    {
      "cell_type": "markdown",
      "id": "739170a4",
      "metadata": {},
      "source": [
        "### For the purposes of defense in this court case, it could be interesting to see if the model behaves similarly if Jane was a man instead of a woman"
      ]
    },
    {
      "cell_type": "code",
      "execution_count": 25,
      "id": "ff513ef7",
      "metadata": {},
      "outputs": [
        {
          "name": "stderr",
          "output_type": "stream",
          "text": [
            "/Users/kaylahaeusssler/miniforge3/lib/python3.12/site-packages/sklearn/base.py:493: UserWarning: X does not have valid feature names, but RandomForestClassifier was fitted with feature names\n",
            "  warnings.warn(\n"
          ]
        },
        {
          "ename": "TypeError",
          "evalue": "AnchorBaseBeam.anchor_beam() got an unexpected keyword argument 'num_features'",
          "output_type": "error",
          "traceback": [
            "\u001b[0;31m---------------------------------------------------------------------------\u001b[0m",
            "\u001b[0;31mTypeError\u001b[0m                                 Traceback (most recent call last)",
            "Cell \u001b[0;32mIn[25], line 9\u001b[0m\n\u001b[1;32m      7\u001b[0m \u001b[38;5;66;03m# Get prediction and explanation for male version\u001b[39;00m\n\u001b[1;32m      8\u001b[0m male_pred \u001b[38;5;241m=\u001b[39m model_adult\u001b[38;5;241m.\u001b[39mpredict(jane_male_df)[\u001b[38;5;241m0\u001b[39m]\n\u001b[0;32m----> 9\u001b[0m male_explanation \u001b[38;5;241m=\u001b[39m \u001b[43mexplainer\u001b[49m\u001b[38;5;241;43m.\u001b[39;49m\u001b[43mexplain_instance\u001b[49m\u001b[43m(\u001b[49m\n\u001b[1;32m     10\u001b[0m \u001b[43m    \u001b[49m\u001b[43mjane_male_df\u001b[49m\u001b[38;5;241;43m.\u001b[39;49m\u001b[43mvalues\u001b[49m\u001b[43m[\u001b[49m\u001b[38;5;241;43m0\u001b[39;49m\u001b[43m]\u001b[49m\u001b[43m,\u001b[49m\u001b[43m \u001b[49m\u001b[43mmodel_adult\u001b[49m\u001b[38;5;241;43m.\u001b[39;49m\u001b[43mpredict_proba\u001b[49m\u001b[43m,\u001b[49m\u001b[43m \u001b[49m\u001b[43mnum_features\u001b[49m\u001b[38;5;241;43m=\u001b[39;49m\u001b[38;5;28;43mlen\u001b[39;49m\u001b[43m(\u001b[49m\u001b[43mfeature_names\u001b[49m\u001b[43m)\u001b[49m\n\u001b[1;32m     11\u001b[0m \u001b[43m)\u001b[49m\n\u001b[1;32m     13\u001b[0m male_explanation\u001b[38;5;241m.\u001b[39mshow_in_notebook()\n\u001b[1;32m     15\u001b[0m \u001b[38;5;28mprint\u001b[39m(\u001b[38;5;124mf\u001b[39m\u001b[38;5;124m\"\u001b[39m\u001b[38;5;124mOriginal Jane: \u001b[39m\u001b[38;5;132;01m{\u001b[39;00m\u001b[38;5;124m'\u001b[39m\u001b[38;5;124mDenied\u001b[39m\u001b[38;5;124m'\u001b[39m\u001b[38;5;250m \u001b[39m\u001b[38;5;28;01mif\u001b[39;00m\u001b[38;5;250m \u001b[39mpred[\u001b[38;5;241m0\u001b[39m]\u001b[38;5;250m \u001b[39m\u001b[38;5;241m==\u001b[39m\u001b[38;5;250m \u001b[39m\u001b[38;5;241m0\u001b[39m\u001b[38;5;250m \u001b[39m\u001b[38;5;28;01melse\u001b[39;00m\u001b[38;5;250m \u001b[39m\u001b[38;5;124m'\u001b[39m\u001b[38;5;124mApproved\u001b[39m\u001b[38;5;124m'\u001b[39m\u001b[38;5;132;01m}\u001b[39;00m\u001b[38;5;124m\"\u001b[39m)\n",
            "File \u001b[0;32m~/miniforge3/lib/python3.12/site-packages/anchor/anchor_tabular.py:278\u001b[0m, in \u001b[0;36mAnchorTabularExplainer.explain_instance\u001b[0;34m(self, data_row, classifier_fn, threshold, delta, tau, batch_size, max_anchor_size, desired_label, beam_size, **kwargs)\u001b[0m\n\u001b[1;32m    275\u001b[0m sample_fn, mapping \u001b[38;5;241m=\u001b[39m \u001b[38;5;28mself\u001b[39m\u001b[38;5;241m.\u001b[39mget_sample_fn(\n\u001b[1;32m    276\u001b[0m     data_row, classifier_fn, desired_label\u001b[38;5;241m=\u001b[39mdesired_label)\n\u001b[1;32m    277\u001b[0m \u001b[38;5;66;03m# return sample_fn, mapping\u001b[39;00m\n\u001b[0;32m--> 278\u001b[0m exp \u001b[38;5;241m=\u001b[39m \u001b[43manchor_base\u001b[49m\u001b[38;5;241;43m.\u001b[39;49m\u001b[43mAnchorBaseBeam\u001b[49m\u001b[38;5;241;43m.\u001b[39;49m\u001b[43manchor_beam\u001b[49m\u001b[43m(\u001b[49m\n\u001b[1;32m    279\u001b[0m \u001b[43m    \u001b[49m\u001b[43msample_fn\u001b[49m\u001b[43m,\u001b[49m\u001b[43m \u001b[49m\u001b[43mdelta\u001b[49m\u001b[38;5;241;43m=\u001b[39;49m\u001b[43mdelta\u001b[49m\u001b[43m,\u001b[49m\u001b[43m \u001b[49m\u001b[43mepsilon\u001b[49m\u001b[38;5;241;43m=\u001b[39;49m\u001b[43mtau\u001b[49m\u001b[43m,\u001b[49m\u001b[43m \u001b[49m\u001b[43mbatch_size\u001b[49m\u001b[38;5;241;43m=\u001b[39;49m\u001b[43mbatch_size\u001b[49m\u001b[43m,\u001b[49m\n\u001b[1;32m    280\u001b[0m \u001b[43m    \u001b[49m\u001b[43mdesired_confidence\u001b[49m\u001b[38;5;241;43m=\u001b[39;49m\u001b[43mthreshold\u001b[49m\u001b[43m,\u001b[49m\u001b[43m \u001b[49m\u001b[43mmax_anchor_size\u001b[49m\u001b[38;5;241;43m=\u001b[39;49m\u001b[43mmax_anchor_size\u001b[49m\u001b[43m,\u001b[49m\n\u001b[1;32m    281\u001b[0m \u001b[43m    \u001b[49m\u001b[38;5;241;43m*\u001b[39;49m\u001b[38;5;241;43m*\u001b[39;49m\u001b[43mkwargs\u001b[49m\u001b[43m)\u001b[49m\n\u001b[1;32m    282\u001b[0m \u001b[38;5;28mself\u001b[39m\u001b[38;5;241m.\u001b[39madd_names_to_exp(data_row, exp, mapping)\n\u001b[1;32m    283\u001b[0m exp[\u001b[38;5;124m'\u001b[39m\u001b[38;5;124minstance\u001b[39m\u001b[38;5;124m'\u001b[39m] \u001b[38;5;241m=\u001b[39m data_row\n",
            "\u001b[0;31mTypeError\u001b[0m: AnchorBaseBeam.anchor_beam() got an unexpected keyword argument 'num_features'"
          ]
        }
      ],
      "source": [
        "# 1. Jane if she were male\n",
        "jane_male = jane_encoded.copy()\n",
        "jane_male[\"sex\"] = encoders[\"sex\"].transform([\"Male\"])[0]\n",
        "jane_male_df = pd.DataFrame([jane_male])\n",
        "jane_male_df = jane_male_df[X_train.columns]\n",
        "\n",
        "# Get prediction and explanation for male version\n",
        "male_pred = model_adult.predict(jane_male_df)[0]\n",
        "male_explanation = explainer.explain_instance(\n",
        "    jane_male_df.values[0], model_adult.predict_proba, num_features=len(feature_names)\n",
        ")\n",
        "\n",
        "male_explanation.show_in_notebook()\n",
        "\n",
        "print(f\"Original Jane: {'Denied' if pred[0] == 0 else 'Approved'}\")\n",
        "print(f\"If Jane were male: {'Denied' if male_pred == 0 else 'Approved'}\")"
      ]
    },
    {
      "cell_type": "markdown",
      "id": "1c8c325a",
      "metadata": {},
      "source": [
        "# Anchors ⚓️"
      ]
    },
    {
      "cell_type": "code",
      "execution_count": 21,
      "id": "87a258fa",
      "metadata": {},
      "outputs": [],
      "source": [
        "from anchor import anchor_tabular"
      ]
    },
    {
      "cell_type": "code",
      "execution_count": 22,
      "id": "11ff67ac",
      "metadata": {},
      "outputs": [],
      "source": [
        "# Initialize Anchors explainer\n",
        "explainer = anchor_tabular.AnchorTabularExplainer(\n",
        "    class_names, feature_names, X_train.values, categorical_names\n",
        ")"
      ]
    },
    {
      "cell_type": "code",
      "execution_count": 23,
      "id": "6732cef6",
      "metadata": {},
      "outputs": [
        {
          "name": "stderr",
          "output_type": "stream",
          "text": [
            "/Users/kaylahaeusssler/miniforge3/lib/python3.12/site-packages/sklearn/base.py:493: UserWarning: X does not have valid feature names, but RandomForestClassifier was fitted with feature names\n",
            "  warnings.warn(\n",
            "/Users/kaylahaeusssler/miniforge3/lib/python3.12/site-packages/sklearn/base.py:493: UserWarning: X does not have valid feature names, but RandomForestClassifier was fitted with feature names\n",
            "  warnings.warn(\n",
            "/Users/kaylahaeusssler/miniforge3/lib/python3.12/site-packages/sklearn/base.py:493: UserWarning: X does not have valid feature names, but RandomForestClassifier was fitted with feature names\n",
            "  warnings.warn(\n",
            "/Users/kaylahaeusssler/miniforge3/lib/python3.12/site-packages/sklearn/base.py:493: UserWarning: X does not have valid feature names, but RandomForestClassifier was fitted with feature names\n",
            "  warnings.warn(\n"
          ]
        }
      ],
      "source": [
        "# Explain the prediction using Anchors\n",
        "exp = explainer.explain_instance(jane_df.values[0], model_adult.predict, threshold=0.80)"
      ]
    },
    {
      "cell_type": "code",
      "execution_count": 24,
      "id": "846d11d9",
      "metadata": {},
      "outputs": [
        {
          "name": "stdout",
          "output_type": "stream",
          "text": [
            "Anchor: \n",
            "Precision: 1.00\n",
            "Coverage: 1.00\n"
          ]
        }
      ],
      "source": [
        "# Print the prediction, precision, and coverage\n",
        "print(\"Anchor: %s\" % (\" AND \".join(exp.names())))\n",
        "print(\"Precision: %.2f\" % exp.precision())\n",
        "print(\"Coverage: %.2f\" % exp.coverage())"
      ]
    }
  ],
  "metadata": {
    "colab": {
      "provenance": []
    },
    "kernelspec": {
      "display_name": "base",
      "language": "python",
      "name": "python3"
    },
    "language_info": {
      "codemirror_mode": {
        "name": "ipython",
        "version": 3
      },
      "file_extension": ".py",
      "mimetype": "text/x-python",
      "name": "python",
      "nbconvert_exporter": "python",
      "pygments_lexer": "ipython3",
      "version": "3.12.6"
    }
  },
  "nbformat": 4,
  "nbformat_minor": 5
}
